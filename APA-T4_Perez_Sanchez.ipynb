{
 "cells": [
  {
   "cell_type": "markdown",
   "id": "fa403857-58a5-44c5-b688-2c0cff4e7bc1",
   "metadata": {},
   "source": [
    "# Cuarta tarea de APA 2023: Generación de números aleatorios\n",
    "\n",
    "## Nom i cognoms: Guillem Perez Sanchez\n",
    "\n",
    "## Generación de números aleatorios usando el algoritmo LGC\n",
    "\n",
    "El algoritmo de generación lineal congruente\n",
    "[LGC](https://en.wikipedia.org/wiki/Linear_congruential_generator) permite generar\n",
    "secuencias pseudoaleatorias de características controladas. Se basa en aplicar\n",
    "iterativamente la fórmula recursiva siguiente:\n",
    "\n",
    "$$ x_{n + 1} = (a x_n + c) \\mod m $$\n",
    "\n",
    "Donde se denomina *módulo* a $m > 0$, *multiplicador* a $0 < a < m$, *incremento* a\n",
    "$0 \\le c < m$, y $0 \\le x_0 < m$ es el valor inicial, o *semilla*, de la secuencia\n",
    "aleatoria generada.\n",
    "\n",
    "La secuencia es periódica, ya que, cada vez que repetimos un valor de $x_n$, volvemos a\n",
    "generar la misma otra vez. Los valores generados cumplen $0 \\le x_n < m$; por tanto, la\n",
    "secuencia más larga posible es de longitud $m$, en cuyo caso, cada valor $0 \\le x_n < m$\n",
    "es producido una sola vez.\n",
    "\n",
    "El módulo $m$ suele tomar como valor una potencia entera de dos para facilitar el cálculo\n",
    "del resto de la división entera mediante el operador desplazamiento de bits. Una elección\n",
    "adecuada del incremento $c$ y el multiplicador $a$ permite que la secuencia generada\n",
    "tenga el periodo máximo, igual a $m$:\n",
    "\n",
    "- $m$ y $c$ no deben tener factores primos en común.\n",
    "- $a - 1$ debe ser divisible por todos los factores primos de $m$ (aunque no mucho).\n",
    "- Si $m$ es divisible por 4, $a - 1$ también debe serlo, pero no por 8.\n",
    "\n",
    "Por ejemplo, el generador aleatorio del estándar POSIX usa los valores siguientes:\n",
    "\n",
    "$$\\begin{eqnarray*}\n",
    "        m & = & 2^{48} \\\\\n",
    "        a & = & 25214903917 \\\\\n",
    "        c & = & 11\n",
    "\\end{eqnarray*}$$\n",
    "\n",
    "## Ejercicios\n",
    "\n",
    "Escriba el fichero `aletaorios.py` que implemente la generación de números aleatorios\n",
    "usando tanto una clase iterable, `Aleat`, como una función generadora `aleat()`.\n",
    "\n",
    "### Generación de números aleatorios usando la clase `Aleat`\n",
    "\n",
    "Escriba la clase `Aleat` que implemente un generador de números aleatorios en el rango\n",
    "$0 \\le x_n < m$ usando el método LGC con las características siguientes:\n",
    "\n",
    "- Los objetos de la clase serán iteradores, para lo que habrá de definirse el método\n",
    "  mágico `__next__()`, que será el que efectuará la generación en sí misma y deberá\n",
    "  devolver el número aleatorio siguiente.\n",
    "\n",
    "- Los valores de `m`, `a` y `c` y la semilla `x0` deben ser configurables al crear el\n",
    "  objeto (argumentos opcionales del método mágico `__init__()`). Estos cuatro argumentos\n",
    "  opcionales serán indicados, obligatoriamente, por clave (no pueden ser posicionales).\n",
    "\n",
    "  Por defecto, los valores de `m`, `a` y `c` serán los usados por el estándar POSIX. El\n",
    "  de la semilla será `x0=1212121`.\n",
    "\n",
    "- El método mágico [`__call__()`](https://docs.python.org/3/reference/datamodel.html#object.__call__)\n",
    "  que sobrecarga la llamada a función, es decir, el uso del objeto como si fuera una\n",
    "  función con sus argumentos entre paréntesis, se usará para reiniciar la secuencia con\n",
    "  la semilla indicada en su único argumento, que será forzosamente posicional.\n"
   ]
  },
  {
   "cell_type": "code",
   "execution_count": 1,
   "id": "acf2dd91-b439-44a1-8e16-96f78d3bca91",
   "metadata": {},
   "outputs": [],
   "source": [
    "class Aleat:\n",
    "    def __init__(self, *, m=2**31, a=1103515245, c=12345, x0=1212121):\n",
    "        self.m = m\n",
    "        self.a = a\n",
    "        self.c = c\n",
    "        self.x = x0\n",
    "\n",
    "    def __iter__(self):\n",
    "        return self\n",
    "\n",
    "    def __next__(self):\n",
    "        self.x = (self.a * self.x + self.c) % self.m\n",
    "        return self.x\n",
    "\n",
    "    def __call__(self, nueva_semilla):\n",
    "        self.x = nueva_semilla"
   ]
  },
  {
   "cell_type": "markdown",
   "id": "42ff91d1-d587-4625-a846-da2ddc7b817e",
   "metadata": {},
   "source": [
    "#### Pruebas unitarias de `Aleat`\n",
    "\n",
    "La cadena de documentación de la clase deberá incluir las siguientes pruebas unitarias\n",
    "a ejecutar con la biblioteca `doctest`:\n",
    "\n",
    "##### Comprobación del funcionamiento de `Aleat`\n",
    "\n",
    "```python\n",
    ">>> rand = Aleat(m=32, a=9, c=13, x0=11)\n",
    ">>> for _ in range(4):\n",
    "...     print(next(rand))\n",
    "...\n",
    "16\n",
    "29\n",
    "18\n",
    "15\n",
    "```"
   ]
  },
  {
   "cell_type": "code",
   "execution_count": 4,
   "id": "164aa3aa-233b-4420-8e75-b30efcda4810",
   "metadata": {},
   "outputs": [
    {
     "name": "stdout",
     "output_type": "stream",
     "text": [
      "16\n",
      "29\n",
      "18\n",
      "15\n"
     ]
    }
   ],
   "source": [
    "rand = Aleat(m=32,a=9,c=13,x0=11)\n",
    "for _ in range(4):\n",
    "    print(next(rand))"
   ]
  },
  {
   "cell_type": "markdown",
   "id": "1a43ecc4-4b73-4840-842a-61211181fcdb",
   "metadata": {},
   "source": [
    "##### Comprobación del reinicio de `Aleat`\n",
    "\n",
    "```python\n",
    ">>> rand(29)\n",
    ">>> for _ in range(4):\n",
    "...     print(next(rand))\n",
    "...\n",
    "18\n",
    "15\n",
    "20\n",
    "1\n",
    "```"
   ]
  },
  {
   "cell_type": "code",
   "execution_count": 5,
   "id": "ad612cfd-7bb9-4f8a-a879-0c2435107e5b",
   "metadata": {},
   "outputs": [
    {
     "name": "stdout",
     "output_type": "stream",
     "text": [
      "18\n",
      "15\n",
      "20\n",
      "1\n"
     ]
    }
   ],
   "source": [
    "rand(29)\n",
    "for _ in range(4):\n",
    "    print(next(rand))"
   ]
  },
  {
   "cell_type": "markdown",
   "id": "39901950-5788-4a88-a8ff-c2b287f681f4",
   "metadata": {},
   "source": [
    "### Generación de números aleatorios usando la función generadora `aleat()`\n",
    "\n",
    "Escriba la función generadora `aleat()` que implemente el mismo generador de números\n",
    "aleatorios en el rango $0 \\le x_n < m$ que en el ejercicio anterior.\n",
    "\n",
    "- Los valores de `m`, `a` y `c` y la semilla `x0` deben ser configurables al crear la\n",
    "  función, y tendrán los mismos valores por defecto que en el caso de la clase `Aleat`.\n",
    "\n",
    "- En caso de enviársele un valor al generador, con su método `send()`, éste debe\n",
    "  reiniciar la secuencia tomando el argumento como semilla de la nueva secuencia."
   ]
  },
  {
   "cell_type": "code",
   "execution_count": 6,
   "id": "98c140bc-73d9-45a4-a2a7-fdfe2ddf18e6",
   "metadata": {},
   "outputs": [],
   "source": [
    "def aleat(*, m=2**31, a=1103515245, c=12345, x0=1212121):\n",
    "    x = x0\n",
    "    while True:\n",
    "        nuevo_x = yield x\n",
    "        if nuevo_x is not None:\n",
    "            x = nuevo_x\n",
    "        x = (a * x + c) % m"
   ]
  },
  {
   "cell_type": "markdown",
   "id": "c975fda9-7e8d-481c-a046-e20f1eb98631",
   "metadata": {},
   "source": [
    "#### Pruebas unitarias de `aleat()`\n",
    "\n",
    "La cadena de documentación de la clase deberá incluir las siguientes pruebas unitarias\n",
    "a ejecutar con la biblioteca `doctest`:\n",
    "\n",
    "##### Comprobación del funcionamiento de `aleat()`\n",
    "\n",
    "```python\n",
    ">>> rand = aleat(m=64, a=5, c=46, x0=36)\n",
    ">>> for _ in range(4):\n",
    "...     print(next(rand))\n",
    "...\n",
    "34\n",
    "24\n",
    "38\n",
    "44\n",
    "```"
   ]
  },
  {
   "cell_type": "code",
   "execution_count": 7,
   "id": "61910fa6-2aa4-4d9e-ab4d-73150cc1895f",
   "metadata": {},
   "outputs": [
    {
     "name": "stdout",
     "output_type": "stream",
     "text": [
      "36\n",
      "34\n",
      "24\n",
      "38\n"
     ]
    }
   ],
   "source": [
    "rand = aleat(m=64,a=5,c=46,x0=36)\n",
    "for _ in range(4):\n",
    "    print(next(rand))"
   ]
  },
  {
   "cell_type": "markdown",
   "id": "5250b166-c1e4-49b1-b53f-6ae93adac7aa",
   "metadata": {},
   "source": [
    "##### Comprobación del reinicio de `aleat()`\n",
    "\n",
    "```python\n",
    ">>> rand.send(24)\n",
    "38\n",
    ">>> for _ in range(4):\n",
    "...     print(next(rand))\n",
    "...\n",
    "44\n",
    "10\n",
    "32\n",
    "14\n",
    "```"
   ]
  },
  {
   "cell_type": "code",
   "execution_count": 8,
   "id": "275d3f29-facc-4ca0-b6c0-aa861c4b7e30",
   "metadata": {},
   "outputs": [
    {
     "data": {
      "text/plain": [
       "38"
      ]
     },
     "execution_count": 8,
     "metadata": {},
     "output_type": "execute_result"
    }
   ],
   "source": [
    "rand.send(24)"
   ]
  },
  {
   "cell_type": "code",
   "execution_count": 9,
   "id": "01d68133-831a-4e0e-97e1-844c2ee405d7",
   "metadata": {},
   "outputs": [
    {
     "name": "stdout",
     "output_type": "stream",
     "text": [
      "44\n",
      "10\n",
      "32\n",
      "14\n"
     ]
    }
   ],
   "source": [
    "for _ in range(4):\n",
    "    print(next(rand))"
   ]
  },
  {
   "cell_type": "markdown",
   "id": "63ef9a89-3881-49de-b83a-4419a5e86048",
   "metadata": {},
   "source": [
    "### Entrega\n",
    "\n",
    "#### Fichero `aleatorios.py`\n",
    "\n",
    "- El fichero debe incluir una cadena de documentación que incluirá el nombre del alumno\n",
    "  y una descripción el contenido del fichero.\n",
    "\n",
    "- La cadena de documentación de la clase `Aleat` debeá incluir:\n",
    "\n",
    "  - Una descripción del cometido de la clase.\n",
    "  - Una descripción de los atributos y métodos de la clase.\n",
    "  - Las pruebas unitarias correspondientes.\n",
    "\n",
    "- La cadena de documentación de la función generadora `aleat()` deberá incluir:\n",
    "\n",
    "  - Una descripción del cometido de la función.\n",
    "  - Los argumentos de la función y la salida proporcionada.\n",
    "  - Las pruebas unitarias correspondientes.\n",
    "\n",
    "- Se valorará lo pythónico de la solución; en concreto, su claridad y sencillez, y el\n",
    "  uso de los estándares marcados por PEP-ocho.\n",
    "\n",
    "#### Ejecución de los tests unitarios\n",
    "\n",
    "Inserte a continuación una captura de pantalla que muestre el resultado de ejecutar el\n",
    "fichero `aleatorios.py` con la opción *verbosa*, de manera que se muestre el\n",
    "resultado de la ejecución de los tests unitarios.\n",
    "\n",
    "![Resultado1](IMG1.png)\n",
    "![Resultado2](IMG2.png)\n",
    "![Resultado3](IMG3.png)\n",
    "![Resultado4](IMG4.png)\n",
    "\n",
    "#### Código desarrollado\n",
    "\n",
    "Inserte a continuación el código de los métodos desarrollados en esta tarea, usando los\n",
    "comandos necesarios para que se realice el realce sintáctico en Python del mismo (no\n",
    "vale insertar una imagen o una captura de pantalla, debe hacerse en formato *markdown*).\n",
    "\n",
    "```python\n",
    "\"\"\"\n",
    "Generación de números aleatorios mediante LGC (Linear Congruential Generator).\n",
    "Guillem Perez Sanchez \n",
    "QP 2025\n",
    "\n",
    "Incluye:\n",
    "- Clase iterable Aleat\n",
    "- Función generadora aleat()\n",
    "\n",
    "Pruebas de la clase Aleat:\n",
    "\n",
    ">>> rand = Aleat(m=32, a=9, c=13, x0=11)\n",
    ">>> for _ in range(4):\n",
    "...     print(next(rand))\n",
    "...\n",
    "16\n",
    "29\n",
    "18\n",
    "15\n",
    "\n",
    ">>> rand(29)\n",
    ">>> for _ in range(4):\n",
    "...     print(next(rand))\n",
    "...\n",
    "18\n",
    "15\n",
    "20\n",
    "1\n",
    "\n",
    "Pruebas de la función aleat():\n",
    "\n",
    ">>> rand = aleat(m=64, a=5, c=46, x0=36)\n",
    ">>> for _ in range(4):\n",
    "...     print(next(rand))\n",
    "...\n",
    "34\n",
    "24\n",
    "38\n",
    "44\n",
    "\n",
    ">>> rand.send(24)\n",
    "38\n",
    ">>> for _ in range(4):\n",
    "...     print(next(rand))\n",
    "...\n",
    "44\n",
    "10\n",
    "32\n",
    "14\n",
    "\"\"\"\n",
    "\n",
    "class Aleat:\n",
    "\n",
    "    \"\"\"\n",
    "    Clase Aleat: \n",
    "    Implementa un generador de números aleatorios en el rango 0≤x≤m usando el método LGC con las características siguientes:\n",
    "        - Los objetos de la clase serán iteradores, para lo que habrá de definirse el método mágico __next__(), que será el que efectuará la generación en sí  misma y deberá devolver el número aleatorio siguiente.\n",
    "        - Los valores de m, a y c y la semilla x0 deben ser configurables al crear el objeto (argumentos opcionales del método mágico __init__()). Estos cuatro argumentos opcionales serán indicados, obligatoriamente, por clave (no pueden ser posicionales). Por defecto, los valores de m, a y c serán los usados por el estándar POSIX. El de la semilla será x0=1212121.\n",
    "        - El método mágico __call__() que sobrecarga la llamada a función, es decir, el uso del objeto como si fuera una función con sus argumentos entre paréntesis, se usará para reiniciar la secuencia con la semilla indicada en su único argumento, que será forzosamente posicional.\n",
    "    \"\"\"\n",
    "    \n",
    "    def __init__(self, *, m=2**31, a=1103515245, c=12345, x0=1212121):\n",
    "        self.m = m\n",
    "        self.a = a\n",
    "        self.c = c\n",
    "        self.x = x0\n",
    "\n",
    "    def __iter__(self):\n",
    "        return self\n",
    "\n",
    "    def __next__(self):\n",
    "        self.x = (self.a * self.x + self.c) % self.m\n",
    "        return self.x\n",
    "\n",
    "    def __call__(self, nueva_semilla):\n",
    "        self.x = nueva_semilla\n",
    "\n",
    "\n",
    "def aleat(*, m=2**31, a=1103515245, c=12345, x0=1212121):\n",
    "    \n",
    "    \"\"\"\n",
    "    Implementa el mismo generador de números aleatorios en el rango que en la clase anterior.\n",
    "    Sigue las condiciones:\n",
    "        - Los valores de m, a y c y la semilla x0 deben ser configurables al crear la función, y tendrán los mismos valores por defecto que en el caso de la clase Aleat.\n",
    "        - En caso de enviársele un valor al generador, con su método send(), éste debe reiniciar la secuencia tomando el argumento como semilla de la nueva secuencia.\n",
    "    \"\"\"\n",
    "    \n",
    "    x = x0\n",
    "    while True:\n",
    "        nuevo_x = yield x\n",
    "        if nuevo_x is not None:\n",
    "            x = nuevo_x\n",
    "        x = (a * x + c) % m\n",
    "```\n",
    "\n",
    "#### Subida del resultado al repositorio GitHub y *pull-request*\n",
    "\n",
    "La entrega se formalizará mediante *pull request* al repositorio de la tarea.\n",
    "\n",
    "El fichero `README.md` deberá respetar las reglas de los ficheros Markdown y\n",
    "visualizarse correctamente en el repositorio, incluyendo la imagen con la ejecución de\n",
    "los tests unitarios y el realce sintáctico del código fuente insertado."
   ]
  },
  {
   "cell_type": "code",
   "execution_count": null,
   "id": "04149f2c-cb47-4f07-a99c-6d3c32138d76",
   "metadata": {},
   "outputs": [],
   "source": []
  }
 ],
 "metadata": {
  "kernelspec": {
   "display_name": "Python 3 (ipykernel)",
   "language": "python",
   "name": "python3"
  },
  "language_info": {
   "codemirror_mode": {
    "name": "ipython",
    "version": 3
   },
   "file_extension": ".py",
   "mimetype": "text/x-python",
   "name": "python",
   "nbconvert_exporter": "python",
   "pygments_lexer": "ipython3",
   "version": "3.9.6"
  }
 },
 "nbformat": 4,
 "nbformat_minor": 5
}
